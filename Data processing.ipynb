{
  "nbformat": 4,
  "nbformat_minor": 0,
  "metadata": {
    "colab": {
      "provenance": [],
      "collapsed_sections": [
        "PtijAOa-PTGt"
      ],
      "include_colab_link": true
    },
    "kernelspec": {
      "name": "python3",
      "display_name": "Python 3"
    },
    "language_info": {
      "name": "python"
    }
  },
  "cells": [
    {
      "cell_type": "markdown",
      "metadata": {
        "id": "view-in-github",
        "colab_type": "text"
      },
      "source": [
        "<a href=\"https://colab.research.google.com/github/sarayangrh/MAIS202_Final_Project/blob/main/MAIS_model_ipMAynb.ipynb\" target=\"_parent\"><img src=\"https://colab.research.google.com/assets/colab-badge.svg\" alt=\"Open In Colab\"/></a>"
      ]
    },
    {
      "cell_type": "markdown",
      "source": [
        "#1 Downloading and Annotating Data"
      ],
      "metadata": {
        "id": "PtijAOa-PTGt"
      }
    },
    {
      "cell_type": "code",
      "execution_count": null,
      "metadata": {
        "id": "kNUDS3eTqQ0B"
      },
      "outputs": [],
      "source": [
        "import librosa\n",
        "import pandas as pd\n",
        "import numpy as np\n",
        "from IPython.lib.display import Audio\n",
        "from matplotlib import pyplot as plt\n",
        "import multiprocessing\n",
        "import scipy.signal\n",
        "from scipy import signal\n",
        "import torch"
      ]
    },
    {
      "cell_type": "code",
      "source": [
        "! rm -r data"
      ],
      "metadata": {
        "id": "H3_r8YBFY-s6"
      },
      "execution_count": null,
      "outputs": []
    },
    {
      "cell_type": "markdown",
      "source": [
        "Downloading the data"
      ],
      "metadata": {
        "id": "dHyp-k1wqvkF"
      }
    },
    {
      "cell_type": "code",
      "source": [
        "!mkdir data\n",
        "!cd data && wget https://archive.org/download/dog-barks-raw/Dog%20Bark%20Data.zip\n",
        "!cd data && unzip -q \"Dog Bark Data.zip\"\n",
        "!ls data/\"Dog Bark Data\"/Dog"
      ],
      "metadata": {
        "id": "VBuadA68q0bF",
        "colab": {
          "base_uri": "https://localhost:8080/"
        },
        "outputId": "bec5759c-3c5d-427e-e37c-40c4c2b20065"
      },
      "execution_count": null,
      "outputs": [
        {
          "output_type": "stream",
          "name": "stdout",
          "text": [
            "--2025-03-05 03:40:33--  https://archive.org/download/dog-barks-raw/Dog%20Bark%20Data.zip\n",
            "Resolving archive.org (archive.org)... 207.241.224.2\n",
            "Connecting to archive.org (archive.org)|207.241.224.2|:443... connected.\n",
            "HTTP request sent, awaiting response... 302 Found\n",
            "Location: https://dn790000.ca.archive.org/0/items/dog-barks-raw/Dog%20Bark%20Data.zip [following]\n",
            "--2025-03-05 03:40:33--  https://dn790000.ca.archive.org/0/items/dog-barks-raw/Dog%20Bark%20Data.zip\n",
            "Resolving dn790000.ca.archive.org (dn790000.ca.archive.org)... 184.105.203.167\n",
            "Connecting to dn790000.ca.archive.org (dn790000.ca.archive.org)|184.105.203.167|:443... connected.\n",
            "HTTP request sent, awaiting response... 200 OK\n",
            "Length: 1943878068 (1.8G) [application/zip]\n",
            "Saving to: ‘Dog Bark Data.zip’\n",
            "\n",
            "Dog Bark Data.zip   100%[===================>]   1.81G  14.4MB/s    in 79s     \n",
            "\n",
            "2025-03-05 03:41:53 (23.4 MB/s) - ‘Dog Bark Data.zip’ saved [1943878068/1943878068]\n",
            "\n",
            "ls: cannot access 'data/Dog Bark Data/Dog': No such file or directory\n"
          ]
        }
      ]
    },
    {
      "cell_type": "markdown",
      "source": [
        "Annotating the data"
      ],
      "metadata": {
        "id": "dEu1C8G-EKjQ"
      }
    },
    {
      "cell_type": "code",
      "source": [
        "paths = glob.glob('data/**/**/**/**/*.aif') + glob.glob('data/**/**/**/**/*.wav')"
      ],
      "metadata": {
        "id": "tLA6_ADLK5zV"
      },
      "execution_count": null,
      "outputs": []
    },
    {
      "cell_type": "code",
      "source": [
        "# This is the number of audiofiles\n",
        "len(paths)"
      ],
      "metadata": {
        "colab": {
          "base_uri": "https://localhost:8080/"
        },
        "id": "0HrDKV3nLESr",
        "outputId": "fb83f490-1c90-4c72-9fae-04eb4294878a"
      },
      "execution_count": null,
      "outputs": [
        {
          "output_type": "execute_result",
          "data": {
            "text/plain": [
              "720"
            ]
          },
          "metadata": {},
          "execution_count": 79
        }
      ]
    },
    {
      "cell_type": "code",
      "source": [
        "!mkdir data/audio"
      ],
      "metadata": {
        "id": "3tXSK2s6Lh_7"
      },
      "execution_count": null,
      "outputs": []
    },
    {
      "cell_type": "code",
      "source": [
        "# Copied straight from the Earth Species github\n",
        "import re\n",
        "import shutil\n",
        "\n",
        "filename = []\n",
        "name = []\n",
        "context = []\n",
        "\n",
        "for path in paths:\n",
        "    try:\n",
        "        n, session, c, session_sequence, *_ = re.findall('(\\w+)', path.split('/')[-1])\n",
        "        if c not in ['A', 'C', 'P']:\n",
        "            n, c, *_ = re.findall('(\\w+)', path.split('/')[-1])\n",
        "            if c not in ['A', 'C', 'P']:\n",
        "                n, _, c = re.findall('(\\w+)', path.split('/')[-1])\n",
        "                c = c[0]\n",
        "                if c not in ['A', 'C', 'P']: continue\n",
        "    except:\n",
        "        continue\n",
        "    shutil.copy(path, 'data/audio')\n",
        "    filename.append(path.split('/')[-1])\n",
        "    name.append(n)\n",
        "    context.append(c)"
      ],
      "metadata": {
        "id": "wALBYgq6Lyvh"
      },
      "execution_count": null,
      "outputs": []
    },
    {
      "cell_type": "code",
      "source": [
        "# Copied from Earth Species github\n",
        "# This code parses the file names to extract the labels\n",
        "fix_names = {\n",
        "    'Freid3': 'Freid',\n",
        "    'Freid4': 'Freid',\n",
        "    'Fried': 'Freid',\n",
        "    'Keri3': 'Keri',\n",
        "    'Kerik': 'Keri',\n",
        "    'Zzoe': 'Zoe',\n",
        "    'luke': 'Luke',\n",
        "    'Louis': 'Louie'\n",
        "\n",
        "}\n",
        "\n",
        "name = [n if n not in fix_names.keys() else fix_names[n] for n in name]\n",
        "\n",
        "age_map = {\n",
        "    'Farley': 3,\n",
        "    'Freid': 5,\n",
        "    'Keri': 4,\n",
        "    'Louie': 2,\n",
        "    'Luke': 5,\n",
        "    'Mac': 5,\n",
        "    'Roodie': 12,\n",
        "    'Rudy': 11,\n",
        "    'Siggy': 11,\n",
        "    'Zoe': 7\n",
        "}\n",
        "\n",
        "weight_map = {\n",
        "    'Farley': 25,\n",
        "    'Freid': 6,\n",
        "    'Keri': 34,\n",
        "    'Louie': 19,\n",
        "    'Luke': 25,\n",
        "    'Mac': 34,\n",
        "    'Roodie': 18,\n",
        "    'Rudy': 32,\n",
        "    'Siggy': 36,\n",
        "    'Zoe': 16\n",
        "}\n",
        "\n",
        "sex_map = {\n",
        "    'Farley': 'male',\n",
        "    'Freid': 'male',\n",
        "    'Keri': 'female',\n",
        "    'Louie': 'male',\n",
        "    'Luke': 'male',\n",
        "    'Mac': 'male',\n",
        "    'Roodie': 'male',\n",
        "    'Rudy': 'male',\n",
        "    'Siggy': 'male',\n",
        "    'Zoe': 'female'\n",
        "}\n",
        "\n",
        "breed_map = {\n",
        "    'Farley': 'Australian shepherd',\n",
        "    'Freid': 'Dachsund',\n",
        "    'Keri': 'Labrador mix',\n",
        "    'Louie': 'Springer spaniel',\n",
        "    'Luke': 'Australian shepherd',\n",
        "    'Mac': 'German shorthair pointer',\n",
        "    'Roodie': 'Australian cattle dog',\n",
        "    'Rudy': 'German shorthair pointer',\n",
        "    'Siggy': 'German shorthair pointer',\n",
        "    'Zoe': 'Australian cattle dog'\n",
        "}\n",
        "\n",
        "age, weight, sex, breed = zip(*[(age_map[n], weight_map[n], sex_map[n], breed_map[n]) for n in name])"
      ],
      "metadata": {
        "id": "Esg0KmG0L7_J"
      },
      "execution_count": null,
      "outputs": []
    },
    {
      "cell_type": "code",
      "source": [
        "# Copied from Earth Species\n",
        "# Creates a dataframe with all the different labels corresponding to each bark file\n",
        "import pandas as pd\n",
        "\n",
        "anno = pd.DataFrame(data={\n",
        "    'filename': filename,\n",
        "    'name': name,\n",
        "    'context': context,\n",
        "    'age': age,\n",
        "    'weight': weight,\n",
        "    'sex': sex,\n",
        "    'breed': breed\n",
        "})\n",
        "context_map = {\n",
        "    'A': 'aggression',\n",
        "    'C': 'contact',\n",
        "    'P': 'play'\n",
        "}\n",
        "\n",
        "anno.context = anno.context.apply(lambda c: context_map[c])"
      ],
      "metadata": {
        "id": "nJEUeyCPMXkR"
      },
      "execution_count": null,
      "outputs": []
    },
    {
      "cell_type": "code",
      "source": [
        "anno.head()"
      ],
      "metadata": {
        "colab": {
          "base_uri": "https://localhost:8080/",
          "height": 201
        },
        "id": "l-v7wWNPMvn3",
        "outputId": "05f51169-ea6e-4cd9-85fd-ad1681536979"
      },
      "execution_count": null,
      "outputs": [
        {
          "output_type": "execute_result",
          "data": {
            "text/plain": [
              "            filename    name  context  age  weight   sex  \\\n",
              "0  Roodie-8-C-8k.aif  Roodie  contact   12      18  male   \n",
              "1  Roodie-8-C-8c.aif  Roodie  contact   12      18  male   \n",
              "2  Roodie-8-C-8e.aif  Roodie  contact   12      18  male   \n",
              "3  Roodie-8-C-8o.aif  Roodie  contact   12      18  male   \n",
              "4  Roodie-8-P-8b.aif  Roodie     play   12      18  male   \n",
              "\n",
              "                   breed  \n",
              "0  Australian cattle dog  \n",
              "1  Australian cattle dog  \n",
              "2  Australian cattle dog  \n",
              "3  Australian cattle dog  \n",
              "4  Australian cattle dog  "
            ],
            "text/html": [
              "\n",
              "  <div id=\"df-6aa6ec3e-501e-4dde-af73-e6d306c0541d\" class=\"colab-df-container\">\n",
              "    <div>\n",
              "<style scoped>\n",
              "    .dataframe tbody tr th:only-of-type {\n",
              "        vertical-align: middle;\n",
              "    }\n",
              "\n",
              "    .dataframe tbody tr th {\n",
              "        vertical-align: top;\n",
              "    }\n",
              "\n",
              "    .dataframe thead th {\n",
              "        text-align: right;\n",
              "    }\n",
              "</style>\n",
              "<table border=\"1\" class=\"dataframe\">\n",
              "  <thead>\n",
              "    <tr style=\"text-align: right;\">\n",
              "      <th></th>\n",
              "      <th>filename</th>\n",
              "      <th>name</th>\n",
              "      <th>context</th>\n",
              "      <th>age</th>\n",
              "      <th>weight</th>\n",
              "      <th>sex</th>\n",
              "      <th>breed</th>\n",
              "    </tr>\n",
              "  </thead>\n",
              "  <tbody>\n",
              "    <tr>\n",
              "      <th>0</th>\n",
              "      <td>Roodie-8-C-8k.aif</td>\n",
              "      <td>Roodie</td>\n",
              "      <td>contact</td>\n",
              "      <td>12</td>\n",
              "      <td>18</td>\n",
              "      <td>male</td>\n",
              "      <td>Australian cattle dog</td>\n",
              "    </tr>\n",
              "    <tr>\n",
              "      <th>1</th>\n",
              "      <td>Roodie-8-C-8c.aif</td>\n",
              "      <td>Roodie</td>\n",
              "      <td>contact</td>\n",
              "      <td>12</td>\n",
              "      <td>18</td>\n",
              "      <td>male</td>\n",
              "      <td>Australian cattle dog</td>\n",
              "    </tr>\n",
              "    <tr>\n",
              "      <th>2</th>\n",
              "      <td>Roodie-8-C-8e.aif</td>\n",
              "      <td>Roodie</td>\n",
              "      <td>contact</td>\n",
              "      <td>12</td>\n",
              "      <td>18</td>\n",
              "      <td>male</td>\n",
              "      <td>Australian cattle dog</td>\n",
              "    </tr>\n",
              "    <tr>\n",
              "      <th>3</th>\n",
              "      <td>Roodie-8-C-8o.aif</td>\n",
              "      <td>Roodie</td>\n",
              "      <td>contact</td>\n",
              "      <td>12</td>\n",
              "      <td>18</td>\n",
              "      <td>male</td>\n",
              "      <td>Australian cattle dog</td>\n",
              "    </tr>\n",
              "    <tr>\n",
              "      <th>4</th>\n",
              "      <td>Roodie-8-P-8b.aif</td>\n",
              "      <td>Roodie</td>\n",
              "      <td>play</td>\n",
              "      <td>12</td>\n",
              "      <td>18</td>\n",
              "      <td>male</td>\n",
              "      <td>Australian cattle dog</td>\n",
              "    </tr>\n",
              "  </tbody>\n",
              "</table>\n",
              "</div>\n",
              "    <div class=\"colab-df-buttons\">\n",
              "\n",
              "  <div class=\"colab-df-container\">\n",
              "    <button class=\"colab-df-convert\" onclick=\"convertToInteractive('df-6aa6ec3e-501e-4dde-af73-e6d306c0541d')\"\n",
              "            title=\"Convert this dataframe to an interactive table.\"\n",
              "            style=\"display:none;\">\n",
              "\n",
              "  <svg xmlns=\"http://www.w3.org/2000/svg\" height=\"24px\" viewBox=\"0 -960 960 960\">\n",
              "    <path d=\"M120-120v-720h720v720H120Zm60-500h600v-160H180v160Zm220 220h160v-160H400v160Zm0 220h160v-160H400v160ZM180-400h160v-160H180v160Zm440 0h160v-160H620v160ZM180-180h160v-160H180v160Zm440 0h160v-160H620v160Z\"/>\n",
              "  </svg>\n",
              "    </button>\n",
              "\n",
              "  <style>\n",
              "    .colab-df-container {\n",
              "      display:flex;\n",
              "      gap: 12px;\n",
              "    }\n",
              "\n",
              "    .colab-df-convert {\n",
              "      background-color: #E8F0FE;\n",
              "      border: none;\n",
              "      border-radius: 50%;\n",
              "      cursor: pointer;\n",
              "      display: none;\n",
              "      fill: #1967D2;\n",
              "      height: 32px;\n",
              "      padding: 0 0 0 0;\n",
              "      width: 32px;\n",
              "    }\n",
              "\n",
              "    .colab-df-convert:hover {\n",
              "      background-color: #E2EBFA;\n",
              "      box-shadow: 0px 1px 2px rgba(60, 64, 67, 0.3), 0px 1px 3px 1px rgba(60, 64, 67, 0.15);\n",
              "      fill: #174EA6;\n",
              "    }\n",
              "\n",
              "    .colab-df-buttons div {\n",
              "      margin-bottom: 4px;\n",
              "    }\n",
              "\n",
              "    [theme=dark] .colab-df-convert {\n",
              "      background-color: #3B4455;\n",
              "      fill: #D2E3FC;\n",
              "    }\n",
              "\n",
              "    [theme=dark] .colab-df-convert:hover {\n",
              "      background-color: #434B5C;\n",
              "      box-shadow: 0px 1px 3px 1px rgba(0, 0, 0, 0.15);\n",
              "      filter: drop-shadow(0px 1px 2px rgba(0, 0, 0, 0.3));\n",
              "      fill: #FFFFFF;\n",
              "    }\n",
              "  </style>\n",
              "\n",
              "    <script>\n",
              "      const buttonEl =\n",
              "        document.querySelector('#df-6aa6ec3e-501e-4dde-af73-e6d306c0541d button.colab-df-convert');\n",
              "      buttonEl.style.display =\n",
              "        google.colab.kernel.accessAllowed ? 'block' : 'none';\n",
              "\n",
              "      async function convertToInteractive(key) {\n",
              "        const element = document.querySelector('#df-6aa6ec3e-501e-4dde-af73-e6d306c0541d');\n",
              "        const dataTable =\n",
              "          await google.colab.kernel.invokeFunction('convertToInteractive',\n",
              "                                                    [key], {});\n",
              "        if (!dataTable) return;\n",
              "\n",
              "        const docLinkHtml = 'Like what you see? Visit the ' +\n",
              "          '<a target=\"_blank\" href=https://colab.research.google.com/notebooks/data_table.ipynb>data table notebook</a>'\n",
              "          + ' to learn more about interactive tables.';\n",
              "        element.innerHTML = '';\n",
              "        dataTable['output_type'] = 'display_data';\n",
              "        await google.colab.output.renderOutput(dataTable, element);\n",
              "        const docLink = document.createElement('div');\n",
              "        docLink.innerHTML = docLinkHtml;\n",
              "        element.appendChild(docLink);\n",
              "      }\n",
              "    </script>\n",
              "  </div>\n",
              "\n",
              "\n",
              "<div id=\"df-d4052ae7-d4b0-4b8b-aa59-d1a7f8ce6dff\">\n",
              "  <button class=\"colab-df-quickchart\" onclick=\"quickchart('df-d4052ae7-d4b0-4b8b-aa59-d1a7f8ce6dff')\"\n",
              "            title=\"Suggest charts\"\n",
              "            style=\"display:none;\">\n",
              "\n",
              "<svg xmlns=\"http://www.w3.org/2000/svg\" height=\"24px\"viewBox=\"0 0 24 24\"\n",
              "     width=\"24px\">\n",
              "    <g>\n",
              "        <path d=\"M19 3H5c-1.1 0-2 .9-2 2v14c0 1.1.9 2 2 2h14c1.1 0 2-.9 2-2V5c0-1.1-.9-2-2-2zM9 17H7v-7h2v7zm4 0h-2V7h2v10zm4 0h-2v-4h2v4z\"/>\n",
              "    </g>\n",
              "</svg>\n",
              "  </button>\n",
              "\n",
              "<style>\n",
              "  .colab-df-quickchart {\n",
              "      --bg-color: #E8F0FE;\n",
              "      --fill-color: #1967D2;\n",
              "      --hover-bg-color: #E2EBFA;\n",
              "      --hover-fill-color: #174EA6;\n",
              "      --disabled-fill-color: #AAA;\n",
              "      --disabled-bg-color: #DDD;\n",
              "  }\n",
              "\n",
              "  [theme=dark] .colab-df-quickchart {\n",
              "      --bg-color: #3B4455;\n",
              "      --fill-color: #D2E3FC;\n",
              "      --hover-bg-color: #434B5C;\n",
              "      --hover-fill-color: #FFFFFF;\n",
              "      --disabled-bg-color: #3B4455;\n",
              "      --disabled-fill-color: #666;\n",
              "  }\n",
              "\n",
              "  .colab-df-quickchart {\n",
              "    background-color: var(--bg-color);\n",
              "    border: none;\n",
              "    border-radius: 50%;\n",
              "    cursor: pointer;\n",
              "    display: none;\n",
              "    fill: var(--fill-color);\n",
              "    height: 32px;\n",
              "    padding: 0;\n",
              "    width: 32px;\n",
              "  }\n",
              "\n",
              "  .colab-df-quickchart:hover {\n",
              "    background-color: var(--hover-bg-color);\n",
              "    box-shadow: 0 1px 2px rgba(60, 64, 67, 0.3), 0 1px 3px 1px rgba(60, 64, 67, 0.15);\n",
              "    fill: var(--button-hover-fill-color);\n",
              "  }\n",
              "\n",
              "  .colab-df-quickchart-complete:disabled,\n",
              "  .colab-df-quickchart-complete:disabled:hover {\n",
              "    background-color: var(--disabled-bg-color);\n",
              "    fill: var(--disabled-fill-color);\n",
              "    box-shadow: none;\n",
              "  }\n",
              "\n",
              "  .colab-df-spinner {\n",
              "    border: 2px solid var(--fill-color);\n",
              "    border-color: transparent;\n",
              "    border-bottom-color: var(--fill-color);\n",
              "    animation:\n",
              "      spin 1s steps(1) infinite;\n",
              "  }\n",
              "\n",
              "  @keyframes spin {\n",
              "    0% {\n",
              "      border-color: transparent;\n",
              "      border-bottom-color: var(--fill-color);\n",
              "      border-left-color: var(--fill-color);\n",
              "    }\n",
              "    20% {\n",
              "      border-color: transparent;\n",
              "      border-left-color: var(--fill-color);\n",
              "      border-top-color: var(--fill-color);\n",
              "    }\n",
              "    30% {\n",
              "      border-color: transparent;\n",
              "      border-left-color: var(--fill-color);\n",
              "      border-top-color: var(--fill-color);\n",
              "      border-right-color: var(--fill-color);\n",
              "    }\n",
              "    40% {\n",
              "      border-color: transparent;\n",
              "      border-right-color: var(--fill-color);\n",
              "      border-top-color: var(--fill-color);\n",
              "    }\n",
              "    60% {\n",
              "      border-color: transparent;\n",
              "      border-right-color: var(--fill-color);\n",
              "    }\n",
              "    80% {\n",
              "      border-color: transparent;\n",
              "      border-right-color: var(--fill-color);\n",
              "      border-bottom-color: var(--fill-color);\n",
              "    }\n",
              "    90% {\n",
              "      border-color: transparent;\n",
              "      border-bottom-color: var(--fill-color);\n",
              "    }\n",
              "  }\n",
              "</style>\n",
              "\n",
              "  <script>\n",
              "    async function quickchart(key) {\n",
              "      const quickchartButtonEl =\n",
              "        document.querySelector('#' + key + ' button');\n",
              "      quickchartButtonEl.disabled = true;  // To prevent multiple clicks.\n",
              "      quickchartButtonEl.classList.add('colab-df-spinner');\n",
              "      try {\n",
              "        const charts = await google.colab.kernel.invokeFunction(\n",
              "            'suggestCharts', [key], {});\n",
              "      } catch (error) {\n",
              "        console.error('Error during call to suggestCharts:', error);\n",
              "      }\n",
              "      quickchartButtonEl.classList.remove('colab-df-spinner');\n",
              "      quickchartButtonEl.classList.add('colab-df-quickchart-complete');\n",
              "    }\n",
              "    (() => {\n",
              "      let quickchartButtonEl =\n",
              "        document.querySelector('#df-d4052ae7-d4b0-4b8b-aa59-d1a7f8ce6dff button');\n",
              "      quickchartButtonEl.style.display =\n",
              "        google.colab.kernel.accessAllowed ? 'block' : 'none';\n",
              "    })();\n",
              "  </script>\n",
              "</div>\n",
              "\n",
              "    </div>\n",
              "  </div>\n"
            ],
            "application/vnd.google.colaboratory.intrinsic+json": {
              "type": "dataframe",
              "variable_name": "anno",
              "summary": "{\n  \"name\": \"anno\",\n  \"rows\": 694,\n  \"fields\": [\n    {\n      \"column\": \"filename\",\n      \"properties\": {\n        \"dtype\": \"string\",\n        \"num_unique_values\": 694,\n        \"samples\": [\n          \"Mac-11-C-9a.aif\",\n          \"Luke-A-1s.aif\",\n          \"Louie-3-P-3.aif\"\n        ],\n        \"semantic_type\": \"\",\n        \"description\": \"\"\n      }\n    },\n    {\n      \"column\": \"name\",\n      \"properties\": {\n        \"dtype\": \"category\",\n        \"num_unique_values\": 10,\n        \"samples\": [\n          \"Freid\",\n          \"Zoe\",\n          \"Mac\"\n        ],\n        \"semantic_type\": \"\",\n        \"description\": \"\"\n      }\n    },\n    {\n      \"column\": \"context\",\n      \"properties\": {\n        \"dtype\": \"category\",\n        \"num_unique_values\": 3,\n        \"samples\": [\n          \"contact\",\n          \"play\",\n          \"aggression\"\n        ],\n        \"semantic_type\": \"\",\n        \"description\": \"\"\n      }\n    },\n    {\n      \"column\": \"age\",\n      \"properties\": {\n        \"dtype\": \"number\",\n        \"std\": 3,\n        \"min\": 2,\n        \"max\": 12,\n        \"num_unique_values\": 7,\n        \"samples\": [\n          12,\n          7,\n          3\n        ],\n        \"semantic_type\": \"\",\n        \"description\": \"\"\n      }\n    },\n    {\n      \"column\": \"weight\",\n      \"properties\": {\n        \"dtype\": \"number\",\n        \"std\": 8,\n        \"min\": 6,\n        \"max\": 36,\n        \"num_unique_values\": 8,\n        \"samples\": [\n          16,\n          34,\n          18\n        ],\n        \"semantic_type\": \"\",\n        \"description\": \"\"\n      }\n    },\n    {\n      \"column\": \"sex\",\n      \"properties\": {\n        \"dtype\": \"category\",\n        \"num_unique_values\": 2,\n        \"samples\": [\n          \"female\",\n          \"male\"\n        ],\n        \"semantic_type\": \"\",\n        \"description\": \"\"\n      }\n    },\n    {\n      \"column\": \"breed\",\n      \"properties\": {\n        \"dtype\": \"category\",\n        \"num_unique_values\": 6,\n        \"samples\": [\n          \"Australian cattle dog\",\n          \"Springer spaniel\"\n        ],\n        \"semantic_type\": \"\",\n        \"description\": \"\"\n      }\n    }\n  ]\n}"
            }
          },
          "metadata": {},
          "execution_count": 85
        }
      ]
    },
    {
      "cell_type": "code",
      "source": [
        "# Drop empty file\n",
        "anno = anno[anno.filename != 'Siggy-4-A-4.aif']\n",
        "# Create a csv file of the annotation\n",
        "anno.to_csv('data/annotations.csv', index=False)"
      ],
      "metadata": {
        "id": "tJU4rKTHM9mJ"
      },
      "execution_count": null,
      "outputs": []
    },
    {
      "cell_type": "markdown",
      "source": [
        "# 2. Generating Spectrograms"
      ],
      "metadata": {
        "id": "--ORdR2JVkiq"
      }
    },
    {
      "cell_type": "code",
      "source": [
        "!cd ..\n",
        "anno = pd.read_csv('data/annotations.csv')\n",
        "\n",
        "audio = []\n",
        "\n",
        "for _, row in anno.iterrows():\n",
        "    recording, sr = librosa.load(f'data/audio/{row.filename}', sr=None)\n",
        "    audio.append(recording)\n",
        "\n",
        "anno['audio'] = audio"
      ],
      "metadata": {
        "id": "2rMUWVzjVh9k"
      },
      "execution_count": null,
      "outputs": []
    },
    {
      "cell_type": "code",
      "source": [
        "sample_rate = 44100\n",
        "def audio_to_spec(audio, sample_rate):\n",
        "  # Compute spectrogram using SciPy\n",
        "  freqs, times, Sx = signal.spectrogram(audio, fs=sample_rate)\n",
        "\n",
        "  freqs, Sx = freqs[:59], Sx[:59]\n",
        "\n",
        "  # Convert to decibels (log-scale)\n",
        "  epsilon = 1e-10  # Small constant to avoid log(0)\n",
        "  Sx = 10 * np.log10(Sx + epsilon)\n",
        "\n",
        "  return times, freqs, Sx"
      ],
      "metadata": {
        "id": "IWLuqkQMQXkN"
      },
      "execution_count": null,
      "outputs": []
    },
    {
      "cell_type": "code",
      "source": [
        "def plot_spectrogram(audio, sample_rate, title=\"Spectrogram\"):\n",
        "    times, freqs, Sx = audio_to_spec(audio, sample_rate)\n",
        "\n",
        "    plt.figure(figsize=(10, 5))\n",
        "    plt.pcolormesh(times, freqs / 1000, Sx, cmap='viridis')  # Convert to kHz\n",
        "    plt.xlabel('Time [s]')\n",
        "    plt.ylabel('Frequency [kHz]')\n",
        "    plt.title(title)\n",
        "    plt.colorbar(label='Power (dB)')\n",
        "    plt.show()\n",
        "\n"
      ],
      "metadata": {
        "id": "GuZ07IqIQbDk"
      },
      "execution_count": null,
      "outputs": []
    },
    {
      "cell_type": "code",
      "source": [
        "# example\n",
        "example_audio = anno[\"audio\"][10]\n",
        "plot_spectrogram(example_audio, sample_rate)"
      ],
      "metadata": {
        "colab": {
          "base_uri": "https://localhost:8080/",
          "height": 487
        },
        "id": "PDsI7mjjZ0FR",
        "outputId": "d471ea7c-04a1-48cb-9764-cebb7e0c8fa3"
      },
      "execution_count": null,
      "outputs": [
        {
          "output_type": "display_data",
          "data": {
            "text/plain": [
              "<Figure size 1000x500 with 2 Axes>"
            ],
            "image/png": "[encoded data removed]"
          },
          "metadata": {}
        }
      ]
    }
  ]
}
